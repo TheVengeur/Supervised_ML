{
 "cells": [
  {
   "cell_type": "markdown",
   "metadata": {},
   "source": [
    "# Machine Learning: Apprentissage Supervisé\n",
    "\n",
    "- Chrysalde CARON\n",
    "- Valentin ANOT\n",
    "\n",
    "## Librairies externes\n",
    "\n",
    "- numpy : desc\n",
    "- pandas : desc\n",
    "\n",
    "## Exercice 1\n",
    "\n",
    "Ici, le programme utilise `numpy` pour générer des données aléatoires et `pandas` pour organiser et sauvegarder les données."
   ]
  },
  {
   "cell_type": "code",
   "execution_count": 1,
   "metadata": {},
   "outputs": [
    {
     "ename": "ModuleNotFoundError",
     "evalue": "No module named 'pandas'",
     "output_type": "error",
     "traceback": [
      "\u001b[1;31m---------------------------------------------------------------------------\u001b[0m",
      "\u001b[1;31mModuleNotFoundError\u001b[0m                       Traceback (most recent call last)",
      "\u001b[1;32md:\\Projets\\Refrkt\\MachineLearningSupervised\\Rapport.ipynb Cell 2\u001b[0m line \u001b[0;36m1\n\u001b[1;32m----> <a href='vscode-notebook-cell:/d%3A/Projets/Refrkt/MachineLearningSupervised/Rapport.ipynb#W1sZmlsZQ%3D%3D?line=0'>1</a>\u001b[0m \u001b[39mimport\u001b[39;00m \u001b[39mexercice1\u001b[39;00m\u001b[39m.\u001b[39;00m\u001b[39martificial_dataset\u001b[39;00m \u001b[39mas\u001b[39;00m \u001b[39mex1\u001b[39;00m\n\u001b[0;32m      <a href='vscode-notebook-cell:/d%3A/Projets/Refrkt/MachineLearningSupervised/Rapport.ipynb#W1sZmlsZQ%3D%3D?line=2'>3</a>\u001b[0m ex1\u001b[39m.\u001b[39mgenerate_dataset()\n",
      "File \u001b[1;32md:\\Projets\\Refrkt\\MachineLearningSupervised\\exercice1\\artificial_dataset.py:1\u001b[0m\n\u001b[1;32m----> 1\u001b[0m \u001b[39mimport\u001b[39;00m \u001b[39mpandas\u001b[39;00m \u001b[39mas\u001b[39;00m \u001b[39mpd\u001b[39;00m\n\u001b[0;32m      2\u001b[0m \u001b[39mimport\u001b[39;00m \u001b[39mnumpy\u001b[39;00m \u001b[39mas\u001b[39;00m \u001b[39mnp\u001b[39;00m\n\u001b[0;32m      3\u001b[0m \u001b[39mfrom\u001b[39;00m \u001b[39mtime\u001b[39;00m \u001b[39mimport\u001b[39;00m time\n",
      "\u001b[1;31mModuleNotFoundError\u001b[0m: No module named 'pandas'"
     ]
    }
   ],
   "source": [
    "import exercice1.artificial_dataset as ex1\n",
    "\n",
    "ex1.generate_dataset()"
   ]
  },
  {
   "cell_type": "markdown",
   "metadata": {},
   "source": [
    "Le programme génére 6 colomne de dataset, la première ne contient uniquement  que des integers, la deuxième ne contient ,elle, que des float. La troisième possède une moyenne de 2.5. La quatrième colomne reprend la première fait en sorte qu'elle soit corrélée positivement. La cinquième est l'inverse de la quatrième mais en prennant la deuxième colonne comme référence. La sixieme et dernière columne possède juste une correlation proche de zero."
   ]
  },
  {
   "cell_type": "markdown",
   "metadata": {},
   "source": [
    "## Exercice 2"
   ]
  },
  {
   "cell_type": "code",
   "execution_count": null,
   "metadata": {},
   "outputs": [],
   "source": [
    "import exercice2 as ex2"
   ]
  },
  {
   "cell_type": "markdown",
   "metadata": {},
   "source": [
    "## Exercice 3"
   ]
  },
  {
   "cell_type": "markdown",
   "metadata": {},
   "source": [
    "## Exercice 4"
   ]
  },
  {
   "cell_type": "markdown",
   "metadata": {},
   "source": [
    "## Exercice 5"
   ]
  }
 ],
 "metadata": {
  "kernelspec": {
   "display_name": "Python 3",
   "language": "python",
   "name": "python3"
  },
  "language_info": {
   "codemirror_mode": {
    "name": "ipython",
    "version": 3
   },
   "file_extension": ".py",
   "mimetype": "text/x-python",
   "name": "python",
   "nbconvert_exporter": "python",
   "pygments_lexer": "ipython3",
   "version": "3.9.7"
  }
 },
 "nbformat": 4,
 "nbformat_minor": 2
}
