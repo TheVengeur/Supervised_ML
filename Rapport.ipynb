{
 "cells": [
  {
   "cell_type": "markdown",
   "metadata": {},
   "source": [
    "# Machine Learning: Apprentissage Supervisé\n",
    "\n",
    "- Louis CHOPINET\n",
    "- Valentin ANOT\n",
    "\n",
    "## Librairies externes\n",
    "\n",
    "- numpy : desc\n",
    "- pandas : desc\n",
    "\n",
    "## Exercice 1\n",
    "\n",
    "Ici, le programme utilise `numpy` pour générer des données aléatoires et `pandas` pour organiser et sauvegarder les données."
   ]
  },
  {
   "cell_type": "code",
   "execution_count": 9,
   "metadata": {},
   "outputs": [],
   "source": [
    "import exercice1.artificial_dataset as ex1\n",
    "\n",
    "ex1.generate_dataset()"
   ]
  },
  {
   "cell_type": "markdown",
   "metadata": {},
   "source": [
    "Le programme génére 6 colomne de dataset, la première ne contient uniquement  que des integers, la deuxième ne contient ,elle, que des float. La troisième possède une moyenne de 2.5. La quatrième colomne reprend la première fait en sorte qu'elle soit corrélée positivement. La cinquième est l'inverse de la quatrième mais en prennant la deuxième colonne comme référence. La sixieme et dernière columne possède juste une correlation proche de zero."
   ]
  },
  {
   "cell_type": "markdown",
   "metadata": {},
   "source": [
    "## Exercice 2"
   ]
  },
  {
   "cell_type": "code",
   "execution_count": 13,
   "metadata": {},
   "outputs": [
    {
     "name": "stdout",
     "output_type": "stream",
     "text": [
      "Dissimilarity Matrix:\n",
      "[[ 0.         17.18033989 24.02775638 31.        ]\n",
      " [17.18033989  0.         13.07106781 20.14213562]\n",
      " [24.02775638 13.07106781  0.         13.07106781]\n",
      " [31.         20.14213562 13.07106781  0.        ]]\n"
     ]
    },
    {
     "name": "stderr",
     "output_type": "stream",
     "text": [
      "c:\\Users\\Anot Valentin\\AppData\\Local\\Programs\\Python\\Python39\\lib\\site-packages\\sklearn\\preprocessing\\_encoders.py:975: FutureWarning: `sparse` was renamed to `sparse_output` in version 1.2 and will be removed in 1.4. `sparse_output` is ignored unless you leave `sparse` to its default value.\n",
      "  warnings.warn(\n"
     ]
    }
   ],
   "source": [
    "import exercice2.exercice2 as ex2"
   ]
  },
  {
   "cell_type": "markdown",
   "metadata": {},
   "source": [
    "## Exercice 3"
   ]
  },
  {
   "cell_type": "markdown",
   "metadata": {},
   "source": [
    "## Exercice 4"
   ]
  },
  {
   "cell_type": "markdown",
   "metadata": {},
   "source": [
    "## Exercice 5"
   ]
  }
 ],
 "metadata": {
  "kernelspec": {
   "display_name": "Python 3",
   "language": "python",
   "name": "python3"
  },
  "language_info": {
   "codemirror_mode": {
    "name": "ipython",
    "version": 3
   },
   "file_extension": ".py",
   "mimetype": "text/x-python",
   "name": "python",
   "nbconvert_exporter": "python",
   "pygments_lexer": "ipython3",
   "version": "3.9.7"
  }
 },
 "nbformat": 4,
 "nbformat_minor": 2
}
